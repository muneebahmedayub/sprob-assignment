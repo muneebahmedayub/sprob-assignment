{
 "cells": [
  {
   "cell_type": "code",
   "execution_count": 1,
   "metadata": {},
   "outputs": [],
   "source": [
    "import pandas as pd\n",
    "from sklearn import linear_model"
   ]
  },
  {
   "cell_type": "code",
   "execution_count": 3,
   "metadata": {},
   "outputs": [
    {
     "data": {
      "text/html": [
       "<div>\n",
       "<style scoped>\n",
       "    .dataframe tbody tr th:only-of-type {\n",
       "        vertical-align: middle;\n",
       "    }\n",
       "\n",
       "    .dataframe tbody tr th {\n",
       "        vertical-align: top;\n",
       "    }\n",
       "\n",
       "    .dataframe thead th {\n",
       "        text-align: right;\n",
       "    }\n",
       "</style>\n",
       "<table border=\"1\" class=\"dataframe\">\n",
       "  <thead>\n",
       "    <tr style=\"text-align: right;\">\n",
       "      <th></th>\n",
       "      <th>GENDER</th>\n",
       "      <th>QUIZ</th>\n",
       "      <th>ASSIGN</th>\n",
       "      <th>MID</th>\n",
       "      <th>FINAL</th>\n",
       "      <th>TOTAL</th>\n",
       "      <th>LG</th>\n",
       "      <th>GP</th>\n",
       "      <th>BATCH</th>\n",
       "      <th>QUIZ_PERCENT</th>\n",
       "      <th>ASSIGN_PERCENT</th>\n",
       "      <th>MID_PERCENT</th>\n",
       "      <th>FINAL_PERCENT</th>\n",
       "    </tr>\n",
       "  </thead>\n",
       "  <tbody>\n",
       "    <tr>\n",
       "      <th>0</th>\n",
       "      <td>M</td>\n",
       "      <td>12.5</td>\n",
       "      <td>8.5</td>\n",
       "      <td>19.0</td>\n",
       "      <td>30.8</td>\n",
       "      <td>71</td>\n",
       "      <td>B-</td>\n",
       "      <td>2.7</td>\n",
       "      <td>bcs_sp22</td>\n",
       "      <td>83.333333</td>\n",
       "      <td>85.0</td>\n",
       "      <td>76.0</td>\n",
       "      <td>61.6</td>\n",
       "    </tr>\n",
       "    <tr>\n",
       "      <th>1</th>\n",
       "      <td>M</td>\n",
       "      <td>11.0</td>\n",
       "      <td>7.5</td>\n",
       "      <td>11.0</td>\n",
       "      <td>27.7</td>\n",
       "      <td>57</td>\n",
       "      <td>C-</td>\n",
       "      <td>1.7</td>\n",
       "      <td>bcs_sp22</td>\n",
       "      <td>73.333333</td>\n",
       "      <td>75.0</td>\n",
       "      <td>44.0</td>\n",
       "      <td>55.4</td>\n",
       "    </tr>\n",
       "    <tr>\n",
       "      <th>2</th>\n",
       "      <td>M</td>\n",
       "      <td>12.5</td>\n",
       "      <td>8.0</td>\n",
       "      <td>20.0</td>\n",
       "      <td>40.0</td>\n",
       "      <td>81</td>\n",
       "      <td>B+</td>\n",
       "      <td>3.3</td>\n",
       "      <td>bcs_sp22</td>\n",
       "      <td>83.333333</td>\n",
       "      <td>80.0</td>\n",
       "      <td>80.0</td>\n",
       "      <td>80.0</td>\n",
       "    </tr>\n",
       "    <tr>\n",
       "      <th>3</th>\n",
       "      <td>F</td>\n",
       "      <td>12.5</td>\n",
       "      <td>8.5</td>\n",
       "      <td>19.0</td>\n",
       "      <td>31.5</td>\n",
       "      <td>72</td>\n",
       "      <td>B-</td>\n",
       "      <td>2.7</td>\n",
       "      <td>bcs_sp22</td>\n",
       "      <td>83.333333</td>\n",
       "      <td>85.0</td>\n",
       "      <td>76.0</td>\n",
       "      <td>63.0</td>\n",
       "    </tr>\n",
       "    <tr>\n",
       "      <th>4</th>\n",
       "      <td>F</td>\n",
       "      <td>12.5</td>\n",
       "      <td>9.0</td>\n",
       "      <td>21.0</td>\n",
       "      <td>38.5</td>\n",
       "      <td>81</td>\n",
       "      <td>B+</td>\n",
       "      <td>3.3</td>\n",
       "      <td>bcs_sp22</td>\n",
       "      <td>83.333333</td>\n",
       "      <td>90.0</td>\n",
       "      <td>84.0</td>\n",
       "      <td>77.0</td>\n",
       "    </tr>\n",
       "  </tbody>\n",
       "</table>\n",
       "</div>"
      ],
      "text/plain": [
       "  GENDER  QUIZ  ASSIGN   MID  FINAL  TOTAL  LG   GP     BATCH  QUIZ_PERCENT  \\\n",
       "0      M  12.5     8.5  19.0   30.8     71  B-  2.7  bcs_sp22     83.333333   \n",
       "1      M  11.0     7.5  11.0   27.7     57  C-  1.7  bcs_sp22     73.333333   \n",
       "2      M  12.5     8.0  20.0   40.0     81  B+  3.3  bcs_sp22     83.333333   \n",
       "3      F  12.5     8.5  19.0   31.5     72  B-  2.7  bcs_sp22     83.333333   \n",
       "4      F  12.5     9.0  21.0   38.5     81  B+  3.3  bcs_sp22     83.333333   \n",
       "\n",
       "   ASSIGN_PERCENT  MID_PERCENT  FINAL_PERCENT  \n",
       "0            85.0         76.0           61.6  \n",
       "1            75.0         44.0           55.4  \n",
       "2            80.0         80.0           80.0  \n",
       "3            85.0         76.0           63.0  \n",
       "4            90.0         84.0           77.0  "
      ]
     },
     "execution_count": 3,
     "metadata": {},
     "output_type": "execute_result"
    }
   ],
   "source": [
    "all_classes = pd.read_csv('assets/all_classes.csv', index_col=0)\n",
    "all_classes.head()"
   ]
  },
  {
   "cell_type": "code",
   "execution_count": 4,
   "metadata": {},
   "outputs": [],
   "source": [
    "reg = linear_model.LinearRegression()"
   ]
  },
  {
   "cell_type": "code",
   "execution_count": 8,
   "metadata": {},
   "outputs": [
    {
     "data": {
      "text/plain": [
       "LinearRegression()"
      ]
     },
     "execution_count": 8,
     "metadata": {},
     "output_type": "execute_result"
    }
   ],
   "source": [
    "reg.fit(all_classes[['QUIZ', 'ASSIGN', 'MID']], all_classes['FINAL'])"
   ]
  },
  {
   "cell_type": "code",
   "execution_count": 9,
   "metadata": {},
   "outputs": [
    {
     "data": {
      "text/plain": [
       "array([1.53218486, 2.18282189, 0.35235422])"
      ]
     },
     "metadata": {},
     "output_type": "display_data"
    },
    {
     "data": {
      "text/plain": [
       "-6.482481670793732"
      ]
     },
     "metadata": {},
     "output_type": "display_data"
    }
   ],
   "source": [
    "display(reg.coef_)\n",
    "display(reg.intercept_)"
   ]
  },
  {
   "cell_type": "code",
   "execution_count": 10,
   "metadata": {},
   "outputs": [
    {
     "name": "stderr",
     "output_type": "stream",
     "text": [
      "c:\\Users\\Muneeb Ahmed\\anaconda3\\lib\\site-packages\\sklearn\\base.py:450: UserWarning: X does not have valid feature names, but LinearRegression was fitted with feature names\n",
      "  warnings.warn(\n"
     ]
    },
    {
     "data": {
      "text/plain": [
       "array([43.19277264])"
      ]
     },
     "execution_count": 10,
     "metadata": {},
     "output_type": "execute_result"
    }
   ],
   "source": [
    "# Muneeb's marks for the final exam\n",
    "reg.predict([[15, 9, 20]])"
   ]
  },
  {
   "cell_type": "code",
   "execution_count": 11,
   "metadata": {},
   "outputs": [
    {
     "name": "stderr",
     "output_type": "stream",
     "text": [
      "c:\\Users\\Muneeb Ahmed\\anaconda3\\lib\\site-packages\\sklearn\\base.py:450: UserWarning: X does not have valid feature names, but LinearRegression was fitted with feature names\n",
      "  warnings.warn(\n"
     ]
    },
    {
     "data": {
      "text/plain": [
       "array([42.84041842])"
      ]
     },
     "execution_count": 11,
     "metadata": {},
     "output_type": "execute_result"
    }
   ],
   "source": [
    "# Ziyad's marks for final exam\n",
    "reg.predict([[15, 9, 19]])"
   ]
  },
  {
   "cell_type": "code",
   "execution_count": null,
   "metadata": {},
   "outputs": [],
   "source": []
  }
 ],
 "metadata": {
  "kernelspec": {
   "display_name": "Python 3.9.13 ('base')",
   "language": "python",
   "name": "python3"
  },
  "language_info": {
   "codemirror_mode": {
    "name": "ipython",
    "version": 3
   },
   "file_extension": ".py",
   "mimetype": "text/x-python",
   "name": "python",
   "nbconvert_exporter": "python",
   "pygments_lexer": "ipython3",
   "version": "3.9.13"
  },
  "orig_nbformat": 4,
  "vscode": {
   "interpreter": {
    "hash": "b16f9b04dac726687f59dc5dfef3c512466d33e2042a054429d6528e07a8ffae"
   }
  }
 },
 "nbformat": 4,
 "nbformat_minor": 2
}
