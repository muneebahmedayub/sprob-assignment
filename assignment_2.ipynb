{
  "nbformat": 4,
  "nbformat_minor": 0,
  "metadata": {
    "colab": {
      "provenance": [],
      "authorship_tag": "ABX9TyOgntTiKLRFVo9x08h8/d1k",
      "include_colab_link": true
    },
    "kernelspec": {
      "name": "python3",
      "display_name": "Python 3"
    },
    "language_info": {
      "name": "python"
    }
  },
  "cells": [
    {
      "cell_type": "markdown",
      "metadata": {
        "id": "view-in-github",
        "colab_type": "text"
      },
      "source": [
        "<a href=\"https://colab.research.google.com/github/muneebahmedayub/sprob-assignment-2/blob/master/assignment_2.ipynb\" target=\"_parent\"><img src=\"https://colab.research.google.com/assets/colab-badge.svg\" alt=\"Open In Colab\"/></a>"
      ]
    },
    {
      "cell_type": "code",
      "source": [
        "!ls sprob-assignment-2/assets"
      ],
      "metadata": {
        "colab": {
          "base_uri": "https://localhost:8080/"
        },
        "id": "gRtCb5tJAI-N",
        "outputId": "42b401c3-c491-4b99-c17a-fd87482ae683"
      },
      "execution_count": 15,
      "outputs": [
        {
          "output_type": "stream",
          "name": "stdout",
          "text": [
            "bcs_fa21.csv  bse_fa21.csv  data_with_sheets.xlsx\n",
            "bcs_sp22.csv  bse_fa22.csv  data.xlsx\n"
          ]
        }
      ]
    },
    {
      "cell_type": "code",
      "source": [
        "import pandas as pd\n",
        "import matplotlib.pyplot as plt"
      ],
      "metadata": {
        "id": "OWhUJ3UlCP1b"
      },
      "execution_count": 11,
      "outputs": []
    },
    {
      "cell_type": "code",
      "source": [
        "bins=[0,10,20,30,40,50,60,70,80,90,100]"
      ],
      "metadata": {
        "id": "QzVeJNgcDIxC"
      },
      "execution_count": 19,
      "outputs": []
    },
    {
      "cell_type": "code",
      "source": [
        "bse_fa21 = pd.read_csv('/content/sprob-assignment-2/assets/bse_fa21.csv', index_col=0)\n",
        "\n",
        "bse_fa22 = pd.read_csv('/content/sprob-assignment-2/assets/bse_fa22.csv', index_col=0)\n",
        "\n",
        "bcs_sp22 = pd.read_csv('/content/sprob-assignment-2/assets/bcs_sp22.csv', index_col=0)\n",
        "\n",
        "bcs_fa21 = pd.read_csv('/content/sprob-assignment-2/assets/bcs_fa21.csv', index_col=0)\n",
        "\n",
        "display(bcs_fa21)"
      ],
      "metadata": {
        "colab": {
          "base_uri": "https://localhost:8080/",
          "height": 455
        },
        "id": "7AEDBjtwCYyU",
        "outputId": "2f02e00c-3958-4105-baae-5aad5a8d4f42"
      },
      "execution_count": 18,
      "outputs": [
        {
          "output_type": "display_data",
          "data": {
            "text/plain": [
              "    GENDER  QUIZ  ASSIGN   MID  FINAL  TOTAL  LG   GP\n",
              "SNO                                                  \n",
              "1        M   9.4     8.8  15.5   30.0     64   C  2.0\n",
              "2        F   9.4     8.3  12.5   28.6     59  C-  1.7\n",
              "3        M   9.8     8.8  14.5   40.0     73  B-  2.7\n",
              "4        F   9.4     8.0   8.5   34.3     60   C  2.0\n",
              "5        F  10.5     9.0  20.0   50.0     90   A  4.0\n",
              "..     ...   ...     ...   ...    ...    ...  ..  ...\n",
              "61       M   9.0     8.3  12.5   47.1     77   B  3.0\n",
              "62       F   8.3     7.3  12.0   31.4     59  C-  1.7\n",
              "63       M   9.8     8.5  20.5   50.0     89  A-  3.7\n",
              "64       M  10.5     8.5  13.0   40.0     72  B-  2.7\n",
              "65       F  10.5     8.8  13.5   38.6     71  B-  2.7\n",
              "\n",
              "[65 rows x 8 columns]"
            ],
            "text/html": [
              "\n",
              "  <div id=\"df-f5b12b4e-f6fc-467d-9a34-db58e98ea4ff\">\n",
              "    <div class=\"colab-df-container\">\n",
              "      <div>\n",
              "<style scoped>\n",
              "    .dataframe tbody tr th:only-of-type {\n",
              "        vertical-align: middle;\n",
              "    }\n",
              "\n",
              "    .dataframe tbody tr th {\n",
              "        vertical-align: top;\n",
              "    }\n",
              "\n",
              "    .dataframe thead th {\n",
              "        text-align: right;\n",
              "    }\n",
              "</style>\n",
              "<table border=\"1\" class=\"dataframe\">\n",
              "  <thead>\n",
              "    <tr style=\"text-align: right;\">\n",
              "      <th></th>\n",
              "      <th>GENDER</th>\n",
              "      <th>QUIZ</th>\n",
              "      <th>ASSIGN</th>\n",
              "      <th>MID</th>\n",
              "      <th>FINAL</th>\n",
              "      <th>TOTAL</th>\n",
              "      <th>LG</th>\n",
              "      <th>GP</th>\n",
              "    </tr>\n",
              "    <tr>\n",
              "      <th>SNO</th>\n",
              "      <th></th>\n",
              "      <th></th>\n",
              "      <th></th>\n",
              "      <th></th>\n",
              "      <th></th>\n",
              "      <th></th>\n",
              "      <th></th>\n",
              "      <th></th>\n",
              "    </tr>\n",
              "  </thead>\n",
              "  <tbody>\n",
              "    <tr>\n",
              "      <th>1</th>\n",
              "      <td>M</td>\n",
              "      <td>9.4</td>\n",
              "      <td>8.8</td>\n",
              "      <td>15.5</td>\n",
              "      <td>30.0</td>\n",
              "      <td>64</td>\n",
              "      <td>C</td>\n",
              "      <td>2.0</td>\n",
              "    </tr>\n",
              "    <tr>\n",
              "      <th>2</th>\n",
              "      <td>F</td>\n",
              "      <td>9.4</td>\n",
              "      <td>8.3</td>\n",
              "      <td>12.5</td>\n",
              "      <td>28.6</td>\n",
              "      <td>59</td>\n",
              "      <td>C-</td>\n",
              "      <td>1.7</td>\n",
              "    </tr>\n",
              "    <tr>\n",
              "      <th>3</th>\n",
              "      <td>M</td>\n",
              "      <td>9.8</td>\n",
              "      <td>8.8</td>\n",
              "      <td>14.5</td>\n",
              "      <td>40.0</td>\n",
              "      <td>73</td>\n",
              "      <td>B-</td>\n",
              "      <td>2.7</td>\n",
              "    </tr>\n",
              "    <tr>\n",
              "      <th>4</th>\n",
              "      <td>F</td>\n",
              "      <td>9.4</td>\n",
              "      <td>8.0</td>\n",
              "      <td>8.5</td>\n",
              "      <td>34.3</td>\n",
              "      <td>60</td>\n",
              "      <td>C</td>\n",
              "      <td>2.0</td>\n",
              "    </tr>\n",
              "    <tr>\n",
              "      <th>5</th>\n",
              "      <td>F</td>\n",
              "      <td>10.5</td>\n",
              "      <td>9.0</td>\n",
              "      <td>20.0</td>\n",
              "      <td>50.0</td>\n",
              "      <td>90</td>\n",
              "      <td>A</td>\n",
              "      <td>4.0</td>\n",
              "    </tr>\n",
              "    <tr>\n",
              "      <th>...</th>\n",
              "      <td>...</td>\n",
              "      <td>...</td>\n",
              "      <td>...</td>\n",
              "      <td>...</td>\n",
              "      <td>...</td>\n",
              "      <td>...</td>\n",
              "      <td>...</td>\n",
              "      <td>...</td>\n",
              "    </tr>\n",
              "    <tr>\n",
              "      <th>61</th>\n",
              "      <td>M</td>\n",
              "      <td>9.0</td>\n",
              "      <td>8.3</td>\n",
              "      <td>12.5</td>\n",
              "      <td>47.1</td>\n",
              "      <td>77</td>\n",
              "      <td>B</td>\n",
              "      <td>3.0</td>\n",
              "    </tr>\n",
              "    <tr>\n",
              "      <th>62</th>\n",
              "      <td>F</td>\n",
              "      <td>8.3</td>\n",
              "      <td>7.3</td>\n",
              "      <td>12.0</td>\n",
              "      <td>31.4</td>\n",
              "      <td>59</td>\n",
              "      <td>C-</td>\n",
              "      <td>1.7</td>\n",
              "    </tr>\n",
              "    <tr>\n",
              "      <th>63</th>\n",
              "      <td>M</td>\n",
              "      <td>9.8</td>\n",
              "      <td>8.5</td>\n",
              "      <td>20.5</td>\n",
              "      <td>50.0</td>\n",
              "      <td>89</td>\n",
              "      <td>A-</td>\n",
              "      <td>3.7</td>\n",
              "    </tr>\n",
              "    <tr>\n",
              "      <th>64</th>\n",
              "      <td>M</td>\n",
              "      <td>10.5</td>\n",
              "      <td>8.5</td>\n",
              "      <td>13.0</td>\n",
              "      <td>40.0</td>\n",
              "      <td>72</td>\n",
              "      <td>B-</td>\n",
              "      <td>2.7</td>\n",
              "    </tr>\n",
              "    <tr>\n",
              "      <th>65</th>\n",
              "      <td>F</td>\n",
              "      <td>10.5</td>\n",
              "      <td>8.8</td>\n",
              "      <td>13.5</td>\n",
              "      <td>38.6</td>\n",
              "      <td>71</td>\n",
              "      <td>B-</td>\n",
              "      <td>2.7</td>\n",
              "    </tr>\n",
              "  </tbody>\n",
              "</table>\n",
              "<p>65 rows × 8 columns</p>\n",
              "</div>\n",
              "      <button class=\"colab-df-convert\" onclick=\"convertToInteractive('df-f5b12b4e-f6fc-467d-9a34-db58e98ea4ff')\"\n",
              "              title=\"Convert this dataframe to an interactive table.\"\n",
              "              style=\"display:none;\">\n",
              "        \n",
              "  <svg xmlns=\"http://www.w3.org/2000/svg\" height=\"24px\"viewBox=\"0 0 24 24\"\n",
              "       width=\"24px\">\n",
              "    <path d=\"M0 0h24v24H0V0z\" fill=\"none\"/>\n",
              "    <path d=\"M18.56 5.44l.94 2.06.94-2.06 2.06-.94-2.06-.94-.94-2.06-.94 2.06-2.06.94zm-11 1L8.5 8.5l.94-2.06 2.06-.94-2.06-.94L8.5 2.5l-.94 2.06-2.06.94zm10 10l.94 2.06.94-2.06 2.06-.94-2.06-.94-.94-2.06-.94 2.06-2.06.94z\"/><path d=\"M17.41 7.96l-1.37-1.37c-.4-.4-.92-.59-1.43-.59-.52 0-1.04.2-1.43.59L10.3 9.45l-7.72 7.72c-.78.78-.78 2.05 0 2.83L4 21.41c.39.39.9.59 1.41.59.51 0 1.02-.2 1.41-.59l7.78-7.78 2.81-2.81c.8-.78.8-2.07 0-2.86zM5.41 20L4 18.59l7.72-7.72 1.47 1.35L5.41 20z\"/>\n",
              "  </svg>\n",
              "      </button>\n",
              "      \n",
              "  <style>\n",
              "    .colab-df-container {\n",
              "      display:flex;\n",
              "      flex-wrap:wrap;\n",
              "      gap: 12px;\n",
              "    }\n",
              "\n",
              "    .colab-df-convert {\n",
              "      background-color: #E8F0FE;\n",
              "      border: none;\n",
              "      border-radius: 50%;\n",
              "      cursor: pointer;\n",
              "      display: none;\n",
              "      fill: #1967D2;\n",
              "      height: 32px;\n",
              "      padding: 0 0 0 0;\n",
              "      width: 32px;\n",
              "    }\n",
              "\n",
              "    .colab-df-convert:hover {\n",
              "      background-color: #E2EBFA;\n",
              "      box-shadow: 0px 1px 2px rgba(60, 64, 67, 0.3), 0px 1px 3px 1px rgba(60, 64, 67, 0.15);\n",
              "      fill: #174EA6;\n",
              "    }\n",
              "\n",
              "    [theme=dark] .colab-df-convert {\n",
              "      background-color: #3B4455;\n",
              "      fill: #D2E3FC;\n",
              "    }\n",
              "\n",
              "    [theme=dark] .colab-df-convert:hover {\n",
              "      background-color: #434B5C;\n",
              "      box-shadow: 0px 1px 3px 1px rgba(0, 0, 0, 0.15);\n",
              "      filter: drop-shadow(0px 1px 2px rgba(0, 0, 0, 0.3));\n",
              "      fill: #FFFFFF;\n",
              "    }\n",
              "  </style>\n",
              "\n",
              "      <script>\n",
              "        const buttonEl =\n",
              "          document.querySelector('#df-f5b12b4e-f6fc-467d-9a34-db58e98ea4ff button.colab-df-convert');\n",
              "        buttonEl.style.display =\n",
              "          google.colab.kernel.accessAllowed ? 'block' : 'none';\n",
              "\n",
              "        async function convertToInteractive(key) {\n",
              "          const element = document.querySelector('#df-f5b12b4e-f6fc-467d-9a34-db58e98ea4ff');\n",
              "          const dataTable =\n",
              "            await google.colab.kernel.invokeFunction('convertToInteractive',\n",
              "                                                     [key], {});\n",
              "          if (!dataTable) return;\n",
              "\n",
              "          const docLinkHtml = 'Like what you see? Visit the ' +\n",
              "            '<a target=\"_blank\" href=https://colab.research.google.com/notebooks/data_table.ipynb>data table notebook</a>'\n",
              "            + ' to learn more about interactive tables.';\n",
              "          element.innerHTML = '';\n",
              "          dataTable['output_type'] = 'display_data';\n",
              "          await google.colab.output.renderOutput(dataTable, element);\n",
              "          const docLink = document.createElement('div');\n",
              "          docLink.innerHTML = docLinkHtml;\n",
              "          element.appendChild(docLink);\n",
              "        }\n",
              "      </script>\n",
              "    </div>\n",
              "  </div>\n",
              "  "
            ]
          },
          "metadata": {}
        }
      ]
    },
    {
      "cell_type": "code",
      "source": [
        "counts, bins, bars = plt.hist(bcs_fa21['TOTAL'], width=8, bins=bins)\n",
        "plt.xlabel('marks')\n",
        "plt.ylabel('frequency')\n",
        "plt.title(\"BCS FA21 TOTAL\")\n",
        "plt.show()\n",
        "\n",
        "plt.plot(bins[:-1], counts)\n",
        "plt.xlabel('marks')\n",
        "plt.ylabel('frequency')\n",
        "plt.title('BCS FA21 TOTAL FREQUENCY CURVE')\n",
        "plt.show()"
      ],
      "metadata": {
        "colab": {
          "base_uri": "https://localhost:8080/",
          "height": 573
        },
        "id": "seOTpJgsClRw",
        "outputId": "2682ae36-0cd9-46fb-a3d7-daca6f4efc5b"
      },
      "execution_count": 32,
      "outputs": [
        {
          "output_type": "display_data",
          "data": {
            "text/plain": [
              "<Figure size 432x288 with 1 Axes>"
            ],
            "image/png": "[encoded data removed]"
          },
          "metadata": {
            "needs_background": "light"
          }
        },
        {
          "output_type": "display_data",
          "data": {
            "text/plain": [
              "<Figure size 432x288 with 1 Axes>"
            ],
            "image/png": "[encoded data removed]"
          },
          "metadata": {
            "needs_background": "light"
          }
        }
      ]
    },
    {
      "cell_type": "code",
      "source": [
        "bcs_fa21_male = bcs_fa21[bcs_fa21[\"GENDER\"] == \"M\"]\n",
        "bcs_fa21_female = bcs_fa21[bcs_fa21[\"GENDER\"] == \"F\"]\n",
        "counts, bins, bars = plt.hist([bcs_fa21_male[\"TOTAL\"].values, bcs_fa21_female[\"TOTAL\"].values], bins=bins, label=['male', 'female'])\n",
        "plt.legend(loc=\"upper left\")\n",
        "plt.xlabel('marks')\n",
        "plt.ylabel('frequency')\n",
        "plt.title('BCS FA21 MALE AND FEMALE COMPARISON')\n",
        "plt.xticks(bins)\n",
        "plt.show()\n",
        "\n",
        "plt.plot(bins[:-1], counts[0], label=\"male\")\n",
        "plt.plot(bins[:-1], counts[1], label='female')\n",
        "plt.legend(loc=\"upper left\")\n",
        "plt.xlabel('marks')\n",
        "plt.ylabel('frequency')\n",
        "plt.title('BCS FA21 MALE AND FEMALE COMPARISON')\n",
        "plt.show()"
      ],
      "metadata": {
        "colab": {
          "base_uri": "https://localhost:8080/",
          "height": 662
        },
        "id": "hIFB7HKhDpIn",
        "outputId": "713f7172-8a3e-43e3-de2c-2d1710efad67"
      },
      "execution_count": 33,
      "outputs": [
        {
          "output_type": "stream",
          "name": "stderr",
          "text": [
            "/usr/local/lib/python3.7/dist-packages/numpy/core/fromnumeric.py:3208: VisibleDeprecationWarning: Creating an ndarray from ragged nested sequences (which is a list-or-tuple of lists-or-tuples-or ndarrays with different lengths or shapes) is deprecated. If you meant to do this, you must specify 'dtype=object' when creating the ndarray.\n",
            "  return asarray(a).size\n",
            "/usr/local/lib/python3.7/dist-packages/matplotlib/cbook/__init__.py:1376: VisibleDeprecationWarning: Creating an ndarray from ragged nested sequences (which is a list-or-tuple of lists-or-tuples-or ndarrays with different lengths or shapes) is deprecated. If you meant to do this, you must specify 'dtype=object' when creating the ndarray.\n",
            "  X = np.atleast_1d(X.T if isinstance(X, np.ndarray) else np.asarray(X))\n"
          ]
        },
        {
          "output_type": "display_data",
          "data": {
            "text/plain": [
              "<Figure size 432x288 with 1 Axes>"
            ],
            "image/png": "[encoded data removed]"
          },
          "metadata": {
            "needs_background": "light"
          }
        },
        {
          "output_type": "display_data",
          "data": {
            "text/plain": [
              "<Figure size 432x288 with 1 Axes>"
            ],
            "image/png": "[encoded data removed]"
          },
          "metadata": {
            "needs_background": "light"
          }
        }
      ]
    },
    {
      "cell_type": "code",
      "source": [],
      "metadata": {
        "id": "dFdpMGowEBRE"
      },
      "execution_count": null,
      "outputs": []
    }
  ]
}